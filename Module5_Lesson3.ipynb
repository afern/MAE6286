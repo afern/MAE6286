{
 "cells": [
  {
   "cell_type": "markdown",
   "metadata": {},
   "source": [
    "## Relaxation Methods --\n",
    "    ### Solving 2D Laplace + Poisson"
   ]
  },
  {
   "cell_type": "code",
   "execution_count": null,
   "metadata": {},
   "outputs": [],
   "source": [
    "import numpy as np\n",
    "from matplotlib import pyplot"
   ]
  },
  {
   "cell_type": "code",
   "execution_count": 2,
   "metadata": {},
   "outputs": [],
   "source": [
    "# Grid \n",
    "# Lx, Ly = 5, 5\n",
    "nx, ny = 5, 5\n",
    "delta = 0.25\n",
    "f = 1/2\n",
    "x = np.linspace(0, 1., num=nx)\n",
    "y = np.linspace(0, 1., num=ny)\n",
    "# Initialize initial guess\n",
    "u_0 = np.zeros((ny, nx))\n",
    "\n",
    "#Boundary Conditions\n",
    "u_0[:, 0] = 1.0\n",
    "u_0[0, :] = 1.0\n",
    "u_0[ny-1, :] = 1.0\n",
    "u_0[:,nx-1] = 0.0"
   ]
  },
  {
   "cell_type": "code",
   "execution_count": 3,
   "metadata": {},
   "outputs": [],
   "source": [
    "# jacobi Method function\n",
    "def jacobi_meth(u_0, delta, b, maxiter = 20000, rtol = 1e-6):\n",
    "    u = u_0.copy()\n",
    "    ny, nx = u.shape\n",
    "    rdiff = rtol + 1\n",
    "    ite = 0\n",
    "    while rdiff > rtol and ite < maxiter:\n",
    "        u_n = u.copy()\n",
    "        for j in range(1, ny-1):\n",
    "            for i in range(1, nx-1):\n",
    "                u[j, i] = (1/4) * (u_n[j-1, i] + \n",
    "                                   u_n[j, i-1] + \n",
    "                                   u_n[j, i+1] + \n",
    "                                   u_n[j+1, i] - \n",
    "                                   b[j, i])\n",
    "        \n",
    "    return u"
   ]
  },
  {
   "cell_type": "code",
   "execution_count": null,
   "metadata": {},
   "outputs": [],
   "source": []
  },
  {
   "cell_type": "code",
   "execution_count": 4,
   "metadata": {},
   "outputs": [],
   "source": [
    "# Start Test Problem"
   ]
  },
  {
   "cell_type": "code",
   "execution_count": 5,
   "metadata": {},
   "outputs": [],
   "source": [
    "# set parameters\n",
    "nx, ny = 128, 128\n",
    "Lx, Ly = 5, 5\n",
    "dx = Lx / (nx-1)\n",
    "dy = Ly / (ny-1)\n",
    "\n",
    "x = np.linspace(0.0, Lx, nx)\n",
    "y = np.linspace(0.0, Ly, ny)\n",
    "\n",
    "# Initial Conditions set\n",
    "p0 = np.zeros((ny, nx))\n",
    "p0[-1, :] = np.sin(1.5 * np.pi * x / Lx)"
   ]
  },
  {
   "cell_type": "code",
   "execution_count": 6,
   "metadata": {},
   "outputs": [],
   "source": [
    "def laplace_2d_jacobi(p0, maxiter = 20000, rtol=1e-6):\n",
    "    # Solves the 2D laplace eqn on uniform grid using Jacobi method\n",
    "    p = p0.copy()\n",
    "    diff = rtol + 1.0\n",
    "    ite = 0\n",
    "    while diff > rtol and ite < maxiter:\n",
    "        pn = p.copy()\n",
    "        # Update interior points solution\n",
    "        p[1:-1, 1:-1] = 0.25 * (pn[1:-1, :-2] + pn[1:-1, 2:] +\n",
    "                                pn[:-2, 1:-1] + pn[2:, 1:-1])\n",
    "        # Apply Neuman condition at R boundary (0.0)\n",
    "        p[1:-1, -1] = 0.25 * (2.0 * pn[1:-1, -2] +\n",
    "                              pn[2:, -1] + pn[:-2, -1])\n",
    "        \n",
    "        diff = l2_norm(p, pn)\n",
    "        ite += 1\n",
    "    return p, ite, diff"
   ]
  },
  {
   "cell_type": "code",
   "execution_count": 7,
   "metadata": {},
   "outputs": [],
   "source": [
    "# L2-Norm Function\n",
    "def l2_norm(u, u_ref):\n",
    "    l2_diff = (np.sqrt(np.sum((u-u_ref)**2)) / \n",
    "              np.sqrt(np.sum(u_ref**2)))\n",
    "    return l2_diff"
   ]
  },
  {
   "cell_type": "code",
   "execution_count": 8,
   "metadata": {},
   "outputs": [],
   "source": [
    "# Plot_3D Function\n",
    "def plot_3d(x, y, p, label='$z$', elev=30.0, azim=45.0):\n",
    "    \"\"\"Create a 3D surface plot of the scalar field `p`.\n",
    "\n",
    "    Parameters\n",
    "    ----------\n",
    "    x : numpy.ndarray\n",
    "        Gridline locations in the x direction as a 1D array of floats.\n",
    "    y : numpy.ndarray\n",
    "        Gridline locations in the y direction as a 1D array of floats.\n",
    "    p : numpy.ndarray\n",
    "        Scalar field to plot as a 2D array of floats.\n",
    "    label : string, optional\n",
    "        Axis label to use in the third direction; default: 'z'.\n",
    "    elev : float, optional\n",
    "        Elevation angle in the z plane; default: 30.0.\n",
    "    azim : float, optional\n",
    "        Azimuth angle in the x,y plane; default: 45.0.\n",
    "\n",
    "    \"\"\"\n",
    "    fig = pyplot.figure(figsize=(8.0, 6.0))\n",
    "    ax = mplot3d.Axes3D(fig)\n",
    "    ax.set_xlabel('$x$')\n",
    "    ax.set_ylabel('$y$')\n",
    "    ax.set_zlabel(label)\n",
    "    X, Y = numpy.meshgrid(x, y)\n",
    "    ax.plot_surface(X, Y, p, cmap=cm.viridis)\n",
    "    ax.set_xlim(x[0], x[-1])\n",
    "    ax.set_ylim(y[0], y[-1])\n",
    "    ax.view_init(elev=elev, azim=azim)"
   ]
  },
  {
   "cell_type": "code",
   "execution_count": 9,
   "metadata": {},
   "outputs": [],
   "source": [
    "# Laplace Solution Function\n",
    "def laplace_solution(x, y, Lx, Ly):\n",
    "    \"\"\"Return the analytical solution.\n",
    "\n",
    "    Parameters\n",
    "    ----------\n",
    "    x : numpy.ndarray\n",
    "        Coordinates along the x direction as a 1D array of floats.\n",
    "    y : numpy.ndarray\n",
    "        Coordinates along the y direction as a 1D array of floats.\n",
    "    Lx : float\n",
    "        Length of the domain in the x direction.\n",
    "    Ly : float\n",
    "        Length of the domain in the y direction.\n",
    "\n",
    "    Returns\n",
    "    -------\n",
    "    u : numpy.ndarray\n",
    "        The analytical solution as a 2D array of floats.\n",
    "\n",
    "    \"\"\"\n",
    "    X, Y = np.meshgrid(x, y)\n",
    "    u = (np.sinh(1.5 * np.pi * Y / Ly) /\n",
    "         np.sinh(1.5 * np.pi * Ly / Lx) *\n",
    "         np.sin(1.5 * np.pi * X / Lx))\n",
    "    \n",
    "    return u"
   ]
  },
  {
   "cell_type": "code",
   "execution_count": 10,
   "metadata": {},
   "outputs": [
    {
     "name": "stdout",
     "output_type": "stream",
     "text": [
      "Jacobi relaxation: 19993 iterations to reach relative difference of 9.998616841158966e-09\n"
     ]
    }
   ],
   "source": [
    "# Solution using Jacobi relaxation method\n",
    "p, ites, diff = laplace_2d_jacobi(p0, maxiter=20000, rtol=1e-8)\n",
    "print('Jacobi relaxation: {} iterations '.format(ites) + \n",
    "      'to reach relative difference of {}'.format(diff))"
   ]
  },
  {
   "cell_type": "code",
   "execution_count": null,
   "metadata": {},
   "outputs": [],
   "source": [
    "%%timeit\n",
    "laplace_2d_jacobi(p0, maxiter=20000, rtol=1e-8)"
   ]
  },
  {
   "cell_type": "code",
   "execution_count": 11,
   "metadata": {},
   "outputs": [
    {
     "data": {
      "text/plain": [
       "6.173551335297434e-05"
      ]
     },
     "execution_count": 11,
     "metadata": {},
     "output_type": "execute_result"
    }
   ],
   "source": [
    "# Compute analytical solution\n",
    "p_exact = laplace_solution(x, y, Lx, Ly)\n",
    "\n",
    "# Compute relative L2 norm of error\n",
    "l2_norm(p, p_exact)"
   ]
  },
  {
   "cell_type": "markdown",
   "metadata": {},
   "source": [
    "### Gauss-Seidel Method"
   ]
  },
  {
   "cell_type": "code",
   "execution_count": 12,
   "metadata": {},
   "outputs": [],
   "source": [
    "def laplace_2d_gs(p0, maxiter=20000, rtol=1e-6):\n",
    "    ny, nx = p0.shape\n",
    "    p = p0.copy()\n",
    "    diff = rtol + 1.0\n",
    "    ite = 0\n",
    "    while diff > rtol and ite < maxiter:\n",
    "        pn = p.copy()\n",
    "        # update interior\n",
    "        for j in range(1, ny-1):\n",
    "            for i in range(1, nx-1):\n",
    "                p[j, i] = (1/4) * (p[j, i-1] + p[j, i+1] + \n",
    "                                   p[j-1, i] + p[j+1, i])\n",
    "        # Apply zero-grad @ R-Boundary\n",
    "        for j in range(1, ny-1):\n",
    "            p[j,-1] = (1/4) * (2. * p[j, -2] + p[j-1, -1] + p[j+1, -1])\n",
    "        \n",
    "        diff = l2_norm(p,pn)\n",
    "        ite+=1\n",
    "    return p, ite, diff"
   ]
  },
  {
   "cell_type": "code",
   "execution_count": null,
   "metadata": {},
   "outputs": [],
   "source": [
    "p, ites, diff = laplace_2d_gs(p0, maxiter=20000, rtol=1e-8)"
   ]
  },
  {
   "cell_type": "code",
   "execution_count": null,
   "metadata": {},
   "outputs": [],
   "source": [
    "def poisson2d_sor(p0, f, w=0.2, maxiter=20000, rtol=1e-6):\n",
    "    p=p0.copy()\n",
    "    ny, nx = p.shape\n",
    "    rdiff = rtol + 1\n",
    "    ite = 0\n",
    "    while rdiff > rtol and ite < maxiter:\n",
    "        pn = p.copy()\n",
    "        for j in range(1, ny - 1):\n",
    "            for i in range(1, nx - 1):\n",
    "                p[j, i] = ((1-w) * pn[j,i] + \n",
    "                          (1/4) * w * (p[j-1,i] + \n",
    "                                       p[j, i-1] + \n",
    "                                       pn[j,i+1] + \n",
    "                                       pn[j+1, i] - f))\n",
    "    return p"
   ]
  },
  {
   "cell_type": "markdown",
   "metadata": {},
   "source": [
    "## NUMBAH"
   ]
  },
  {
   "cell_type": "code",
   "execution_count": null,
   "metadata": {},
   "outputs": [],
   "source": [
    "conda install numba"
   ]
  },
  {
   "cell_type": "code",
   "execution_count": null,
   "metadata": {},
   "outputs": [],
   "source": [
    "import numba\n",
    "from numba import jit"
   ]
  },
  {
   "cell_type": "code",
   "execution_count": null,
   "metadata": {},
   "outputs": [],
   "source": [
    "@jit(nopython=True)\n",
    "def fib_it(n):\n",
    "    a, b = 1, 1\n",
    "    for i in range(n-2):\n",
    "        a,b = b, a+b\n",
    "    return b"
   ]
  },
  {
   "cell_type": "code",
   "execution_count": null,
   "metadata": {},
   "outputs": [],
   "source": [
    "%%timeit\n",
    "fib_it(500000)"
   ]
  },
  {
   "cell_type": "code",
   "execution_count": null,
   "metadata": {},
   "outputs": [],
   "source": [
    "print(numba.__version__)"
   ]
  },
  {
   "cell_type": "code",
   "execution_count": null,
   "metadata": {},
   "outputs": [],
   "source": [
    "@jit(nopython=True)\n",
    "def laplace_2d_jacobi(p0, maxiter=20000, rtol=1e-6):\n",
    "    \"\"\"\n",
    "    Solves the 2D Laplace equation on a uniform grid\n",
    "    with equal grid spacing in both directions\n",
    "    using Jacobi relaxation method.\n",
    "    \n",
    "    The exit criterion of the solver is based on the relative L2-norm\n",
    "    of the solution difference between two consecutive iterations.\n",
    "    \n",
    "    Parameters\n",
    "    ----------\n",
    "    p0 : numpy.ndarray\n",
    "        The initial solution as a 2D array of floats.\n",
    "    maxiter : integer, optional\n",
    "        Maximum number of iterations to perform;\n",
    "        default: 20000.\n",
    "    rtol : float, optional\n",
    "        Relative tolerance for convergence;\n",
    "        default: 1e-6.\n",
    "    \n",
    "    Returns\n",
    "    -------\n",
    "    p : numpy.ndarray\n",
    "        The solution after relaxation as a 2D array of floats.\n",
    "    ite : integer\n",
    "        The number of iterations performed.\n",
    "    conv : list\n",
    "        The convergence history as a list of floats.\n",
    "    \"\"\"\n",
    "    ny, nx = p0.shape\n",
    "    p = p0.copy()\n",
    "    conv = []  # convergence history\n",
    "    diff = rtol + 1.0  # initial difference\n",
    "    ite = 0  # iteration index\n",
    "    while diff > rtol and ite < maxiter:\n",
    "        pn = p.copy()\n",
    "        # Update the solution at interior points.\n",
    "        for j in range(1, ny - 1):\n",
    "            for i in range(1, nx - 1):\n",
    "                p[j, i] = 0.25 * (pn[j, i - 1] + pn[j, i + 1] +\n",
    "                                  pn[j - 1, i] + pn[j + 1, i])\n",
    "        # Apply 2nd-order Neumann condition (zero-gradient)\n",
    "        # at the right boundary.\n",
    "        for j in range(1, ny - 1):\n",
    "            p[j, -1] = 0.25 * (2.0 * pn[j, -2] +\n",
    "                               pn[j - 1, -1] + pn[j + 1, -1])\n",
    "        # Compute the relative L2-norm of the difference.\n",
    "        diff = numpy.sqrt(numpy.sum((p - pn)**2) / numpy.sum(pn**2))\n",
    "        conv.append(diff)\n",
    "        ite += 1\n",
    "    return p, ite, conv"
   ]
  },
  {
   "cell_type": "code",
   "execution_count": null,
   "metadata": {},
   "outputs": [],
   "source": [
    "# Compute solution using relaxed Jacobi method\n",
    "p, ites, conv_jacobi = laplace_2d_jacobi(p0, maxiter=20000, rtol=1e-7)\n",
    "\n",
    "print('Jacobi relaxation: {} iterations '.format(ites) + \n",
    "      'to reach relative diff of {}'.format(conv_jacobi[-1]))"
   ]
  },
  {
   "cell_type": "code",
   "execution_count": null,
   "metadata": {},
   "outputs": [],
   "source": []
  }
 ],
 "metadata": {
  "kernelspec": {
   "display_name": "Python 3",
   "language": "python",
   "name": "python3"
  },
  "language_info": {
   "codemirror_mode": {
    "name": "ipython",
    "version": 3
   },
   "file_extension": ".py",
   "mimetype": "text/x-python",
   "name": "python",
   "nbconvert_exporter": "python",
   "pygments_lexer": "ipython3",
   "version": "3.7.3"
  }
 },
 "nbformat": 4,
 "nbformat_minor": 2
}
