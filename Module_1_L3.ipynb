{
 "cells": [
  {
   "cell_type": "code",
   "execution_count": 1,
   "metadata": {},
   "outputs": [],
   "source": [
    "def euler_step(u, f, dt):\n",
    "    return u+ dt * f(u)"
   ]
  },
  {
   "cell_type": "code",
   "execution_count": 2,
   "metadata": {},
   "outputs": [],
   "source": [
    "import numpy as np\n",
    "import math\n",
    "from matplotlib import pyplot\n",
    "%matplotlib inline"
   ]
  },
  {
   "cell_type": "code",
   "execution_count": 4,
   "metadata": {},
   "outputs": [],
   "source": [
    "#Global Parameters\n",
    "g = 9.81\n",
    "vt = 30.0\n",
    "Cd = 1.0/40.0\n",
    "Cl = 1.0\n",
    "\n",
    "#Initial Conditions\n",
    "v0 = vt #starting at trim velocity\n",
    "thta0 = 0.0 #trajectory angle\n",
    "x0 = 0.0 #starting x-position\n",
    "y0 = 1000.0 #starting altitude"
   ]
  },
  {
   "cell_type": "code",
   "execution_count": 5,
   "metadata": {},
   "outputs": [],
   "source": [
    "def rhs_phugoid(u, Cl, Cd, g, vt):\n",
    "    v, theta, x, y = u\n",
    "    rhs = np.array([-g * np.sin(theta) - Cd / Cl * g/vt**2 * v**2, \n",
    "                    -g * np.cos(theta)/v+g/vt**2 * v, \n",
    "                    v*np.cos(theta),\n",
    "                   v*np.sin(theta)])\n",
    "    return rhs"
   ]
  },
  {
   "cell_type": "code",
   "execution_count": 8,
   "metadata": {},
   "outputs": [],
   "source": [
    "def euler_step(u, f, dt, *args):\n",
    "    u_new = u + dt * f(u, *args)\n",
    "    return u_new"
   ]
  },
  {
   "cell_type": "code",
   "execution_count": 9,
   "metadata": {},
   "outputs": [],
   "source": [
    "T = 100.0 #length of time interval\n",
    "dt = 0.1 #time step size\n",
    "N = int(T / dt) + 1 #defines number of timesteps\n",
    "\n",
    "#Create array to store solution at each t\n",
    "u = np.empty((N, 4))\n",
    "#Set IC\n",
    "u[0] = np.array([v0, thta0, x0, y0])\n",
    "\n",
    "#Time integration using Euler step method\n",
    "for n in range(N-1):\n",
    "    u[n+1] = euler_step(u[n], rhs_phugoid, dt, Cl, Cd, g, vt)"
   ]
  },
  {
   "cell_type": "code",
   "execution_count": 10,
   "metadata": {},
   "outputs": [],
   "source": [
    "#Obtain Glider's position over time\n",
    "x = u[:, 2]\n",
    "y = u[:, 3]"
   ]
  },
  {
   "cell_type": "code",
   "execution_count": 13,
   "metadata": {},
   "outputs": [
    {
     "data": {
      "image/png": "[encoded data removed]",
      "text/plain": [
       "<Figure size 648x288 with 1 Axes>"
      ]
     },
     "metadata": {},
     "output_type": "display_data"
    }
   ],
   "source": [
    "# Plotting path of glider\n",
    "pyplot.figure(figsize = (9.0,4.0))\n",
    "pyplot.title('Path of Glider where (Flight Time = {})'.format(T))\n",
    "pyplot.xlabel('x-axis')\n",
    "pyplot.ylabel('y-axis')\n",
    "pyplot.grid()\n",
    "pyplot.plot(x,y, color='C4', linestyle='-', linewidth=2);"
   ]
  },
  {
   "cell_type": "code",
   "execution_count": 15,
   "metadata": {},
   "outputs": [],
   "source": [
    "# Set the list of time-step sizes\n",
    "dt_vals = [0.1, 0.05, 0.01, 0.005, 0.001]\n",
    "\n",
    "# Generate Empty list that contains solutions for each t-step\n",
    "u_vals = []\n",
    "\n",
    "for dt in dt_vals:\n",
    "    N = int(T / dt) + 1 #num of time-steps\n",
    "    \n",
    "    #Create array to store solution at each t-step\n",
    "    u = np.empty((N, 4))\n",
    "    \n",
    "    #Set IC\n",
    "    u[0] = np.array([v0, thta0, x0, y0])\n",
    "    \n",
    "    # Temp. Integration using Euler\n",
    "    for n in range(N - 1):\n",
    "        u[n+1] = euler_step(u[n], rhs_phugoid, dt, Cl, Cd, g, vt)\n",
    "        \n",
    "    # Store solution for present time-step\n",
    "    u_vals.append(u)"
   ]
  },
  {
   "cell_type": "code",
   "execution_count": 18,
   "metadata": {},
   "outputs": [],
   "source": [
    "def l1_diff(u_coarse, u_fine, dt):\n",
    "    N_coarse = len(u_coarse)\n",
    "    N_fine = len(u_fine)\n",
    "    ratio = math.ceil(N_fine / N_coarse)\n",
    "    diff = dt*np.sum(np.abs(u_coarse - u_fine[::ratio]))\n",
    "    return diff"
   ]
  },
  {
   "cell_type": "code",
   "execution_count": 19,
   "metadata": {},
   "outputs": [],
   "source": [
    "diff_vals = []\n",
    "for i, dt in enumerate(dt_vals[:-1]):\n",
    "    diff = l1_diff(u_vals[i][:,2], u_vals[-1][:, 2], dt)\n",
    "    diff_vals.append(diff)"
   ]
  },
  {
   "cell_type": "code",
   "execution_count": 22,
   "metadata": {},
   "outputs": [
    {
     "data": {
      "image/png": "[encoded data removed]",
      "text/plain": [
       "<Figure size 432x432 with 1 Axes>"
      ]
     },
     "metadata": {},
     "output_type": "display_data"
    }
   ],
   "source": [
    "#Plotting Difference v. Time-step size\n",
    "pyplot.figure(figsize=(6.0,6.0))\n",
    "pyplot.title('L1-norm difference v. time-step size')\n",
    "pyplot.xlabel('$\\Delta t$') #x-axis label\n",
    "pyplot.ylabel('Difference') #y-axis label\n",
    "pyplot.grid()\n",
    "pyplot.loglog(dt_vals[:-1], diff_vals, color='C6', linestyle = '--', marker = 'o')\n",
    "pyplot.axis('equal');"
   ]
  },
  {
   "cell_type": "code",
   "execution_count": null,
   "metadata": {},
   "outputs": [],
   "source": [
    "r = 2 #refinement ratio for timestep size\n"
   ]
  }
 ],
 "metadata": {
  "kernelspec": {
   "display_name": "Python 3",
   "language": "python",
   "name": "python3"
  },
  "language_info": {
   "codemirror_mode": {
    "name": "ipython",
    "version": 3
   },
   "file_extension": ".py",
   "mimetype": "text/x-python",
   "name": "python",
   "nbconvert_exporter": "python",
   "pygments_lexer": "ipython3",
   "version": "3.6.2"
  }
 },
 "nbformat": 4,
 "nbformat_minor": 2
}
