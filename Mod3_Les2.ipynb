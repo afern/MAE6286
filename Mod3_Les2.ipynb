{
 "cells": [
  {
   "cell_type": "markdown",
   "metadata": {},
   "source": [
    "### 2nd Order Linear PDE Scheme Implementation"
   ]
  },
  {
   "cell_type": "code",
   "execution_count": 2,
   "metadata": {},
   "outputs": [],
   "source": [
    "import numpy as np\n",
    "import sympy as sp\n",
    "from matplotlib import pyplot\n",
    "import ipywidgets\n",
    "%matplotlib inline"
   ]
  },
  {
   "cell_type": "code",
   "execution_count": 3,
   "metadata": {},
   "outputs": [],
   "source": [
    "pyplot.rc('font', family='serif', size=16)"
   ]
  },
  {
   "cell_type": "code",
   "execution_count": 4,
   "metadata": {},
   "outputs": [],
   "source": [
    "def rho_redlight(x, rho_max):\n",
    "    rho = np.full_like(x, rho_max)\n",
    "    # rho = rho_max * np.ones_like(x) ... similar to above line\n",
    "    mask = np.where(x < 3.)\n",
    "    rho[mask] /= 2\n",
    "    # rho[mask] = rho_max / 2 ... similar to line above (somehow)\n",
    "    return rho"
   ]
  },
  {
   "cell_type": "code",
   "execution_count": 36,
   "metadata": {},
   "outputs": [],
   "source": [
    "# params set\n",
    "nx = 81\n",
    "L = 4.\n",
    "dx = L / (nx - 1)          # grid spacing\n",
    "x = np.linspace(0., L, num=nx)\n",
    "dt = 1 * dt / u_max\n",
    "\n",
    "rho_max = 10.\n",
    "u_max = 1.\n",
    "\n",
    "rho_0 = rho_redlight(x, rho_max)"
   ]
  },
  {
   "cell_type": "code",
   "execution_count": 37,
   "metadata": {},
   "outputs": [],
   "source": [
    "def plot(n, x, rho_hist, ):\n",
    "    pyplot.figure()\n",
    "    pyplot.grid()\n",
    "    pyplot.title('Time step: {}'.format(n))\n",
    "    pyplot.xlabel('Road [km]')\n",
    "    pyplot.ylabel('Traffic Density [cars/hr]')\n",
    "    pyplot.plot(x, rho_hist[n], color='C6', linewidth = 3)\n",
    "    pyplot.xlim(x[0], x[-1])\n",
    "    pyplot.ylim(4., 11.)\n",
    "    pyplot.show()"
   ]
  },
  {
   "cell_type": "code",
   "execution_count": 38,
   "metadata": {},
   "outputs": [
    {
     "data": {
      "image/png": "[encoded data removed]",
      "text/plain": [
       "<Figure size 432x288 with 1 Axes>"
      ]
     },
     "metadata": {
      "needs_background": "light"
     },
     "output_type": "display_data"
    }
   ],
   "source": [
    "plot(0, x, [rho_0])"
   ]
  },
  {
   "cell_type": "code",
   "execution_count": 39,
   "metadata": {},
   "outputs": [],
   "source": [
    "def traffic_speed(rho, u_max, rho_max):\n",
    "    return u_max * (1 - rho / rho_max)\n",
    "\n",
    "def traffic_flux(rho, u_max, rho_max):\n",
    "    return rho * traffic_speed(rho, u_max, rho_max)"
   ]
  },
  {
   "cell_type": "code",
   "execution_count": 40,
   "metadata": {},
   "outputs": [],
   "source": [
    "def interactive_plot(x, rho_hist):\n",
    "    nt = len(rho_hist) - 1\n",
    "    nt_slider = ipywidgets.IntSlider(value=0., min=0.,max=nt, step=1,\n",
    "                                     description = 'Time Step')\n",
    "    w = ipywidgets.interactive(plot, n=nt_slider,\n",
    "                               x=ipywidgets.fixed(x),\n",
    "                               rho_hist = ipywidgets.fixed(rho_hist))\n",
    "    return w"
   ]
  },
  {
   "cell_type": "code",
   "execution_count": 41,
   "metadata": {},
   "outputs": [
    {
     "data": {
      "application/vnd.jupyter.widget-view+json": {
       "model_id": "c6f10075a295437597a7d70219be4b69",
       "version_major": 2,
       "version_minor": 0
      },
      "text/plain": [
       "interactive(children=(IntSlider(value=0, description='Time Step', max=0), Output()), _dom_classes=('widget-int…"
      ]
     },
     "metadata": {},
     "output_type": "display_data"
    }
   ],
   "source": [
    "interactive_plot(x, [rho_0])"
   ]
  },
  {
   "cell_type": "code",
   "execution_count": 62,
   "metadata": {},
   "outputs": [],
   "source": [
    "def lax_fried(rho_0, nt, dt, dx, u_max, rho_max):\n",
    "    rho_hist = [rho_0.copy()]\n",
    "    rho = rho_0.copy()\n",
    "    nx = len(rho_0)\n",
    "    for n in range(nt):\n",
    "        rhon = rho.copy()\n",
    "        F = traffic_flux(rhon, u_max, rho_max)\n",
    "        for i in range(1, nx-1):\n",
    "            rho[i] = (0.5 * (rhon[i-1] + rhon[i+1]) - dt * (F[i+1] - F[i-1]) / (2*dx))   \n",
    "            \n",
    "        rho_hist.append(rho.copy())\n",
    "    \"\"\"\n",
    "    for n in range(nt):\n",
    "    rhon = np.copy(rho)\n",
    "        flx = traffic_flux(rho, u_max, rho_max)\n",
    "        rho[1:-1] = (0.5 * (rhon[:-2] + rhon[2:]) - dt / (2 * dx) * (flx[2:] - flx[:-2]))\n",
    "        rho_hist.append(rho.copy())\n",
    "        \n",
    "    # Boundary conditions are skipped since they remain the same from rho0 to rho.copy\n",
    "    \"\"\"\n",
    "    \n",
    "    return rho_hist"
   ]
  },
  {
   "cell_type": "code",
   "execution_count": 63,
   "metadata": {},
   "outputs": [
    {
     "data": {
      "application/vnd.jupyter.widget-view+json": {
       "model_id": "d1b508828c6e48f78599de984f44186d",
       "version_major": 2,
       "version_minor": 0
      },
      "text/plain": [
       "interactive(children=(IntSlider(value=0, description='Time Step', max=40), Output()), _dom_classes=('widget-in…"
      ]
     },
     "metadata": {},
     "output_type": "display_data"
    }
   ],
   "source": [
    "nt = 40\n",
    "sigma = 1. \n",
    "dt = sigma * dx / u_max\n",
    "\n",
    "rho_hist = lax_fried(rho_0, nt, dt, dx, u_max, rho_max)\n",
    "\n",
    "interactive_plot(x, rho_hist)"
   ]
  },
  {
   "cell_type": "code",
   "execution_count": 69,
   "metadata": {},
   "outputs": [
    {
     "data": {
      "application/vnd.jupyter.widget-view+json": {
       "model_id": "5344e36989e6434085d82b7878991805",
       "version_major": 2,
       "version_minor": 0
      },
      "text/plain": [
       "interactive(children=(IntSlider(value=0, description='Time Step', max=150), Output()), _dom_classes=('widget-i…"
      ]
     },
     "metadata": {},
     "output_type": "display_data"
    }
   ],
   "source": [
    "sigma = 0.5\n",
    "dt = sigma * dx / u_max\n",
    "nt = 150\n",
    "\n",
    "rho_hist = lax_fried(rho_0, nt, dt, dx, u_max, rho_max)\n",
    "interactive_plot(x, rho_hist)"
   ]
  },
  {
   "cell_type": "markdown",
   "metadata": {},
   "source": [
    "### Lax Friedrich introduces diffusive errors in solution"
   ]
  },
  {
   "cell_type": "markdown",
   "metadata": {},
   "source": [
    "## Lax - Wendroff Scheme Below"
   ]
  },
  {
   "cell_type": "code",
   "execution_count": 75,
   "metadata": {},
   "outputs": [],
   "source": [
    "def tj(rho, u_max, rho_max):\n",
    "    J = u_max * (1. - 2. * rho / rho_max)\n",
    "    return J\n",
    "\n",
    "def lax_wend(rho_0, nt, dt, dx, u_max, rho_max):\n",
    "    rho_hist = [rho_0.copy()]\n",
    "    rho = rho_0.copy()\n",
    "    for n in range(nt):\n",
    "        F = traffic_flux(rho, u_max, rho_max)\n",
    "        J = tj(rho, u_max, rho_max)\n",
    "        rho[1:-1] = (rho[1:-1] - dt / (2. * dx) * (F[2:] - F[:-2]) + dt**2 / (4. * dx**2) *\n",
    "                    ((J[1:-1] + J[2:]) * (F[2:] - F[1:-1]) - (J[:-2] + J[1:-1]) * (F[1:-1] - F[:-2])))\n",
    "        rho_hist.append(rho.copy())\n",
    "    return rho_hist"
   ]
  },
  {
   "cell_type": "code",
   "execution_count": 76,
   "metadata": {},
   "outputs": [
    {
     "data": {
      "application/vnd.jupyter.widget-view+json": {
       "model_id": "bb3fee41fc8c454fa11b57b72f515dad",
       "version_major": 2,
       "version_minor": 0
      },
      "text/plain": [
       "interactive(children=(IntSlider(value=0, description='Time Step', max=40), Output()), _dom_classes=('widget-in…"
      ]
     },
     "metadata": {},
     "output_type": "display_data"
    }
   ],
   "source": [
    "sigma = 1.\n",
    "dt = sigma * dx / u_max\n",
    "nt = 40\n",
    "\n",
    "rho_hist = lax_wend(rho_0, nt, dt, dx, u_max, rho_max)\n",
    "interactive_plot(x, rho_hist)"
   ]
  },
  {
   "cell_type": "markdown",
   "metadata": {},
   "source": [
    "## Lax-Wend introduces dispersion errors ( see above ) "
   ]
  },
  {
   "cell_type": "markdown",
   "metadata": {},
   "source": [
    "## Below is MacCormack Scheme"
   ]
  },
  {
   "cell_type": "code",
   "execution_count": 78,
   "metadata": {},
   "outputs": [],
   "source": [
    "def mac(rho_0, nt, dt, dx, u_max, rho_max):\n",
    "    rho_hist = [rho_0.copy()]\n",
    "    rho = rho_0.copy()\n",
    "    rho_n = rho.copy()\n",
    "    for n in range(nt):\n",
    "        F = traffic_flux(rho, u_max, rho_max)\n",
    "        rho_n[1:-1] = (rho[1:-1] - dt/dx * (F[2:] - F[1:-1]))\n",
    "        \n",
    "        F = traffic_flux(rho_n, u_max, rho_max)\n",
    "        rho[1:-1] = 0.5 * (rho[1:-1] + rho_n[1:-1] - dt/dx * (F[1:-1] - F[:-2]))\n",
    "        \n",
    "        rho_hist.append(rho.copy())\n",
    "    return rho_hist"
   ]
  },
  {
   "cell_type": "code",
   "execution_count": 79,
   "metadata": {},
   "outputs": [
    {
     "data": {
      "application/vnd.jupyter.widget-view+json": {
       "model_id": "4840c020592e457ea5e1052ecd3c4771",
       "version_major": 2,
       "version_minor": 0
      },
      "text/plain": [
       "interactive(children=(IntSlider(value=0, description='Time Step', max=40), Output()), _dom_classes=('widget-in…"
      ]
     },
     "metadata": {},
     "output_type": "display_data"
    }
   ],
   "source": [
    "sigma = 1.\n",
    "dt = sigma * dx / u_max\n",
    "nt = 40\n",
    "\n",
    "rho_hist = mac(rho_0, nt, dt, dx, u_max, rho_max)\n",
    "interactive_plot(x, rho_hist)"
   ]
  },
  {
   "cell_type": "code",
   "execution_count": null,
   "metadata": {},
   "outputs": [],
   "source": []
  }
 ],
 "metadata": {
  "kernelspec": {
   "display_name": "Python 3",
   "language": "python",
   "name": "python3"
  },
  "language_info": {
   "codemirror_mode": {
    "name": "ipython",
    "version": 3
   },
   "file_extension": ".py",
   "mimetype": "text/x-python",
   "name": "python",
   "nbconvert_exporter": "python",
   "pygments_lexer": "ipython3",
   "version": "3.7.3"
  }
 },
 "nbformat": 4,
 "nbformat_minor": 2
}
