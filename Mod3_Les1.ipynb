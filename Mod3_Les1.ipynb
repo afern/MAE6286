{
 "cells": [
  {
   "cell_type": "markdown",
   "metadata": {},
   "source": [
    "## Week 6: Wave + Convection; Consistency, Stability, Convergence "
   ]
  },
  {
   "cell_type": "code",
   "execution_count": 155,
   "metadata": {},
   "outputs": [],
   "source": [
    "import numpy as np\n",
    "import sympy as sp\n",
    "import math\n",
    "from matplotlib import pyplot\n",
    "from matplotlib import animation\n",
    "from IPython.display import HTML\n",
    "import ipywidgets\n",
    "%matplotlib inline"
   ]
  },
  {
   "cell_type": "code",
   "execution_count": 7,
   "metadata": {},
   "outputs": [],
   "source": [
    "sp.init_printing()"
   ]
  },
  {
   "cell_type": "code",
   "execution_count": 11,
   "metadata": {},
   "outputs": [],
   "source": [
    "def rho_green(x, rho_light):\n",
    "    rho = np.zeros_like(x)\n",
    "    mask = np.where(x < 2.0)\n",
    "    rho[mask] = rho_light * x[mask] / 2.0\n",
    "    return rho"
   ]
  },
  {
   "cell_type": "code",
   "execution_count": 43,
   "metadata": {},
   "outputs": [],
   "source": [
    "# Initial Conditions\n",
    "nx = 81\n",
    "L = 4.\n",
    "xL = 2\n",
    "dx = L / (nx - 1)\n",
    "nt = 30\n",
    "u_max = 1.0            # maximum speed allowed on road\n",
    "rho_max = 10.          # max \n",
    "rho_light = 10.        # density at stoplight\n",
    "\n",
    "x = np.linspace(0.0, L, num = nx)\n",
    "\n",
    "rho0 = rho_green(x, rho_light)"
   ]
  },
  {
   "cell_type": "code",
   "execution_count": 44,
   "metadata": {},
   "outputs": [
    {
     "data": {
      "image/png": "[encoded data removed]",
      "text/plain": [
       "<Figure size 432x288 with 1 Axes>"
      ]
     },
     "metadata": {
      "needs_background": "light"
     },
     "output_type": "display_data"
    }
   ],
   "source": [
    "# Initial Car Density Plot\n",
    "pyplot.figure(figsize=(6.,4.))\n",
    "pyplot.xlabel(r'$x$')\n",
    "pyplot.ylabel(r'$\\rho$')\n",
    "pyplot.grid()\n",
    "pyplot.plot(x, rho0, color='C6', linestyle='-', linewidth = 3)\n",
    "pyplot.xlim(0.0, L)\n",
    "pyplot.ylim(-0.5, 11);"
   ]
  },
  {
   "cell_type": "code",
   "execution_count": 45,
   "metadata": {},
   "outputs": [],
   "source": [
    "# Flux Function to calculate flux given certain input parameters\n",
    "def flux(rho, u_max, rho_max):\n",
    "    F = rho * u_max * (1 - rho / rho_max)\n",
    "    return F"
   ]
  },
  {
   "cell_type": "code",
   "execution_count": 131,
   "metadata": {},
   "outputs": [],
   "source": [
    "# FTBS Function to Calculate Discretized Solution\n",
    "def ftbs(dt, dx, rho0, nt, bc_vals, *args):\n",
    "    rho_hist = [rho0.copy()]\n",
    "    #rho = rho0.copy()\n",
    "    for n in range(nt):\n",
    "        # Compute the flux.\n",
    "        F = flux(rho, *args)\n",
    "        # Advance in time.\n",
    "        rho[1:] = rho[1:] - dt / dx * (F[1:] - F[:-1])\n",
    "        # Set the left boundary condition.\n",
    "        rho[0] = bc_value\n",
    "        # Record the time-step solution.\n",
    "        rho_hist.append(rho.copy())\n",
    "    return rho_hist"
   ]
  },
  {
   "cell_type": "code",
   "execution_count": 56,
   "metadata": {},
   "outputs": [],
   "source": [
    "# CFL Limit Stuff\n",
    "sigma = 1\n",
    "dt = sigma * dx / u_max"
   ]
  },
  {
   "cell_type": "code",
   "execution_count": 48,
   "metadata": {},
   "outputs": [],
   "source": [
    "# Velocity Function to return the velocity\n",
    "def velocity(rho, rho_max, u_max):\n",
    "    u = u_max * (1 - rho / rho_max)\n",
    "    return u"
   ]
  },
  {
   "cell_type": "code",
   "execution_count": 49,
   "metadata": {},
   "outputs": [],
   "source": [
    "# Initial Conditions Function\n",
    "def ic(x, xL, rho_L):\n",
    "    rho0 = np.zeros_like(x)\n",
    "    mask = np.where((x < xL) & (x >= 0))\n",
    "    rho0[mask] = rho_L * (x[mask]/xL)\n",
    "    return rho0"
   ]
  },
  {
   "cell_type": "code",
   "execution_count": 113,
   "metadata": {},
   "outputs": [],
   "source": [
    "a = ic(x, xL, rho_max)"
   ]
  },
  {
   "cell_type": "code",
   "execution_count": 114,
   "metadata": {},
   "outputs": [
    {
     "data": {
      "image/png": "[encoded data removed]",
      "text/plain": [
       "<Figure size 432x288 with 1 Axes>"
      ]
     },
     "metadata": {
      "needs_background": "light"
     },
     "output_type": "display_data"
    }
   ],
   "source": [
    "fig = pyplot.plot(x, a)\n",
    "pyplot.grid()"
   ]
  },
  {
   "cell_type": "code",
   "execution_count": 143,
   "metadata": {},
   "outputs": [],
   "source": [
    "def ftbs2(u_max, rho0, dt, dx, nt):\n",
    "    rho_hist = [rho0.copy()]\n",
    "    rho_2 = rho0.copy()\n",
    "    for q in range(nt):\n",
    "        for i in range(1, nx-1):\n",
    "            rho_2[i] = rho_2[i] + dt/dx * (flux(rho_2[i], u_max, rho_max) - flux(rho_2[i-1], u_max, rho_max))\n",
    "        rho_hist.append(rho_2.copy())\n",
    "    return rho_hist"
   ]
  },
  {
   "cell_type": "code",
   "execution_count": 144,
   "metadata": {},
   "outputs": [
    {
     "name": "stderr",
     "output_type": "stream",
     "text": [
      "/opt/conda/lib/python3.7/site-packages/ipykernel_launcher.py:3: RuntimeWarning: overflow encountered in double_scalars\n",
      "  This is separate from the ipykernel package so we can avoid doing imports until\n",
      "/opt/conda/lib/python3.7/site-packages/ipykernel_launcher.py:6: RuntimeWarning: invalid value encountered in double_scalars\n",
      "  \n"
     ]
    }
   ],
   "source": [
    "rho_hist = ftbs2(u_max, rho0, dt, dx, nt);"
   ]
  },
  {
   "cell_type": "code",
   "execution_count": 117,
   "metadata": {},
   "outputs": [],
   "source": [
    "def plot_update(n, rho_hist):\n",
    "    fig.suptitle('Time Step {:0>2}'.format(n))\n",
    "    line.set_ydate(rho_hist[n])"
   ]
  },
  {
   "cell_type": "code",
   "execution_count": 118,
   "metadata": {},
   "outputs": [
    {
     "data": {
      "image/png": "[encoded data removed]",
      "text/plain": [
       "<Figure size 432x288 with 1 Axes>"
      ]
     },
     "metadata": {
      "needs_background": "light"
     },
     "output_type": "display_data"
    }
   ],
   "source": [
    "# Initial Traffic Density Plotted\n",
    "fig = pyplot.figure(figsize=(6.,4.))\n",
    "pyplot.xlabel(r'$x$')\n",
    "pyplot.ylabel(r'$\\rho$')\n",
    "pyplot.grid()\n",
    "line = pyplot.plot(x, rho0, color='C3', linewidth = 2)[0]\n",
    "fig.tight_layout()"
   ]
  },
  {
   "cell_type": "code",
   "execution_count": 149,
   "metadata": {},
   "outputs": [],
   "source": [
    "def plot(n, x, rho_hist):\n",
    "    pyplot.figure()\n",
    "    pyplot.title(\"Time Step: {}\".format(n))\n",
    "    pyplot.xlabel('Dist on Rd')\n",
    "    pyplot.ylabel('Traffic Density')\n",
    "    pyplot.plot(x, rho_hist[n])\n",
    "    pyplot.xlim(x[0], x[-1])\n",
    "    pyplot.ylim(-0.5, 11.)\n",
    "    pyplot.grid()\n",
    "    pyplot.show()"
   ]
  },
  {
   "cell_type": "code",
   "execution_count": 153,
   "metadata": {},
   "outputs": [
    {
     "data": {
      "image/png": "[encoded data removed]",
      "text/plain": [
       "<Figure size 432x288 with 1 Axes>"
      ]
     },
     "metadata": {
      "needs_background": "light"
     },
     "output_type": "display_data"
    }
   ],
   "source": [
    "plot(3, x, rho_hist)"
   ]
  },
  {
   "cell_type": "code",
   "execution_count": 145,
   "metadata": {},
   "outputs": [
    {
     "data": {
      "image/png": "[encoded data removed]",
      "text/latex": [
       "$$31$$"
      ],
      "text/plain": [
       "31"
      ]
     },
     "execution_count": 145,
     "metadata": {},
     "output_type": "execute_result"
    }
   ],
   "source": [
    "len(rho_hist)"
   ]
  },
  {
   "cell_type": "code",
   "execution_count": 157,
   "metadata": {},
   "outputs": [],
   "source": [
    "def interactive_plot(x, rho_hist):\n",
    "    nt = len(rho_hist) - 1\n",
    "    nt_slider = ipywidgets.IntSlider(value = 0, min=0, max=nt, step=1, description='Time Step')\n",
    "    w = ipywidgets.interactive(plot,n=nt_slider, x=ipywidgets.fixed(x), rho_hist = ipywidgets.fixed(rho_hist))\n",
    "    return w"
   ]
  },
  {
   "cell_type": "code",
   "execution_count": 158,
   "metadata": {},
   "outputs": [
    {
     "data": {
      "application/vnd.jupyter.widget-view+json": {
       "model_id": "92a3d563321e4611902f018086b2ddbd",
       "version_major": 2,
       "version_minor": 0
      },
      "text/plain": [
       "interactive(children=(IntSlider(value=0, description='Time Step', max=30), Output()), _dom_classes=('widget-in…"
      ]
     },
     "metadata": {},
     "output_type": "display_data"
    }
   ],
   "source": [
    "interactive_plot(x, rho_hist)"
   ]
  },
  {
   "cell_type": "code",
   "execution_count": null,
   "metadata": {},
   "outputs": [],
   "source": []
  }
 ],
 "metadata": {
  "kernelspec": {
   "display_name": "Python 3",
   "language": "python",
   "name": "python3"
  },
  "language_info": {
   "codemirror_mode": {
    "name": "ipython",
    "version": 3
   },
   "file_extension": ".py",
   "mimetype": "text/x-python",
   "name": "python",
   "nbconvert_exporter": "python",
   "pygments_lexer": "ipython3",
   "version": "3.7.3"
  }
 },
 "nbformat": 4,
 "nbformat_minor": 2
}
