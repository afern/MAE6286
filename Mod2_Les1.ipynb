{
 "cells": [
  {
   "cell_type": "markdown",
   "metadata": {},
   "source": [
    "## 1D Convection Problem for PDE Solving using FTBS (Forward in Time and Backward in Space)"
   ]
  },
  {
   "cell_type": "code",
   "execution_count": 2,
   "metadata": {},
   "outputs": [],
   "source": [
    "# 1D Convection Problem for PDE Solving\n",
    "import numpy as np\n",
    "import scipy as sp\n",
    "from matplotlib import pyplot\n",
    "%matplotlib inline"
   ]
  },
  {
   "cell_type": "code",
   "execution_count": 23,
   "metadata": {},
   "outputs": [],
   "source": [
    "# Font Family and Size (Don't Usually Do This)\n",
    "pyplot.rcParams['font.family'] = 'serif'\n",
    "pyplot.rcParams['font.size'] = 14"
   ]
  },
  {
   "cell_type": "code",
   "execution_count": 147,
   "metadata": {},
   "outputs": [],
   "source": [
    "# Initial Conditions for Square Wave\n",
    "nx = 41     #number of discrete spatial points\n",
    "L = 2.0     #length of the 1D domain\n",
    "dx = L / (nx - 1) # spatial grid size\n",
    "nt = 25\n",
    "dt = 0.02\n",
    "c = 1.0   #convection speeds\n",
    "\n",
    "# Define grid point coordinates\n",
    "x = np.linspace(0.0, L, num=nx)"
   ]
  },
  {
   "cell_type": "code",
   "execution_count": 148,
   "metadata": {},
   "outputs": [
    {
     "name": "stdout",
     "output_type": "stream",
     "text": [
      "(array([10, 11, 12, 13, 14, 15, 16, 17, 18, 19, 20]),)\n"
     ]
    }
   ],
   "source": [
    "# Set initial conditions with 1.0 everywhere\n",
    "u0 = np.ones(nx)\n",
    "# Probe for list of indices where 0.5 <= x <= 1.0\n",
    "mask = np.where(np.logical_and(x >= 0.5, x<= 1.0))\n",
    "print(mask)"
   ]
  },
  {
   "cell_type": "code",
   "execution_count": 149,
   "metadata": {},
   "outputs": [
    {
     "name": "stdout",
     "output_type": "stream",
     "text": [
      "[1. 1. 1. 1. 1. 1. 1. 1. 1. 1. 2. 2. 2. 2. 2. 2. 2. 2. 2. 2. 2. 1. 1. 1.\n",
      " 1. 1. 1. 1. 1. 1. 1. 1. 1. 1. 1. 1. 1. 1. 1. 1. 1.]\n"
     ]
    }
   ],
   "source": [
    "# Set initial conditions of u = 2.0, where 0.5 <= x <= 1.0\n",
    "u0[mask] = 2.0\n",
    "print(u0)"
   ]
  },
  {
   "cell_type": "code",
   "execution_count": 150,
   "metadata": {},
   "outputs": [],
   "source": [
    "def plot_figure(x, u0, u):                      #u0 is the initial solution, u is current solution \n",
    "    pyplot.figure(figsize=(5.0,5.0))\n",
    "    pyplot.xlabel('x-axis')\n",
    "    pyplot.ylabel('u, solution value')\n",
    "    pyplot.grid()\n",
    "    pyplot.plot(x, u0, 'k--', label='Initial')\n",
    "    pyplot.plot(x, u, 'b', label='Current')\n",
    "    pyplot.xlim(0.0, L)\n",
    "    pyplot.ylim(0.0, 2.5)\n",
    "    pyplot.legend()"
   ]
  },
  {
   "cell_type": "code",
   "execution_count": 151,
   "metadata": {},
   "outputs": [
    {
     "data": {
      "text/plain": [
       "'\\n\\nColor Codes\\n-----------\\nC1 = orange\\nC2 = green\\nC3 = red\\nC4 = purple\\nC5 = brown\\nC6 = pink\\n\\n'"
      ]
     },
     "execution_count": 151,
     "metadata": {},
     "output_type": "execute_result"
    },
    {
     "data": {
      "image/png": "[encoded data removed]",
      "text/plain": [
       "<Figure size 360x360 with 1 Axes>"
      ]
     },
     "metadata": {},
     "output_type": "display_data"
    }
   ],
   "source": [
    "# Plot initial conditions\n",
    "pyplot.figure(figsize=(5.0, 5.0))\n",
    "pyplot.title('Initial Conditions PLOTTED')\n",
    "pyplot.xlabel('x')\n",
    "pyplot.ylabel('u')\n",
    "pyplot.grid()\n",
    "pyplot.plot(x, u0, color = 'C6', linestyle ='-', linewidth = 2)\n",
    "pyplot.xlim(0.0, L)\n",
    "pyplot.ylim(0.0, 2.5)\n",
    "\n",
    "\"\"\"\n",
    "\n",
    "Color Codes\n",
    "-----------\n",
    "C1 = orange\n",
    "C2 = green\n",
    "C3 = red\n",
    "C4 = purple\n",
    "C5 = brown\n",
    "C6 = pink\n",
    "\n",
    "\"\"\""
   ]
  },
  {
   "cell_type": "code",
   "execution_count": 152,
   "metadata": {},
   "outputs": [],
   "source": [
    "u = u0.copy()\n",
    "for n in range(1, nt):                # time loop\n",
    "    un = u.copy()\n",
    "    for q in range(1, nx):            # position loop nested in time loop\n",
    "        u[q] = un[q] - c * dt / dx * (un[q] - un[q-1])"
   ]
  },
  {
   "cell_type": "code",
   "execution_count": 153,
   "metadata": {},
   "outputs": [
    {
     "data": {
      "text/plain": [
       "(0.0, 2.5)"
      ]
     },
     "execution_count": 153,
     "metadata": {},
     "output_type": "execute_result"
    },
    {
     "data": {
      "image/png": "[encoded data removed]",
      "text/plain": [
       "<Figure size 360x360 with 1 Axes>"
      ]
     },
     "metadata": {},
     "output_type": "display_data"
    }
   ],
   "source": [
    "# Solution plotted after nt time steps\n",
    "pyplot.figure(figsize=(5.0,5.0))\n",
    "pyplot.xlabel('x')\n",
    "pyplot.ylabel('y')\n",
    "pyplot.title('Initial Conditions + Solutions Plot')\n",
    "pyplot.grid()\n",
    "pyplot.plot(x,u0, label = 'Initial Condition', color = 'C6', linestyle = '-', linewidth = 2)\n",
    "pyplot.plot(x,u, label = 'Solution', color = 'C2', linestyle = '--', linewidth = 2)\n",
    "pyplot.legend()\n",
    "pyplot.xlim(0.0, L)\n",
    "pyplot.ylim(0.0, 2.5)"
   ]
  },
  {
   "cell_type": "code",
   "execution_count": 154,
   "metadata": {},
   "outputs": [],
   "source": [
    "# Note that the square wave is no longer square, and has been shifted to the right\n",
    "\n",
    "# This occurs because the solution is a discretized version of the continuous\n",
    "# differential equation we are solving. Shape is changed due to errors incurred\n",
    "# during the solution\n",
    "\n",
    "# Avoid errors by decreasing the time step, or increase the number of points to change the grid spacing"
   ]
  },
  {
   "cell_type": "markdown",
   "metadata": {},
   "source": [
    "## Begin Non-Linear Convection Section"
   ]
  },
  {
   "cell_type": "code",
   "execution_count": 155,
   "metadata": {},
   "outputs": [],
   "source": [
    "# Non-Linear Paramters\n",
    "nx = 41\n",
    "L = 2.0\n",
    "dx = L / (nx - 1)\n",
    "nt = 10\n",
    "dt = 0.02\n",
    "\n",
    "x = np.linspace(0.0, L, num=nx)\n",
    "u0 = np.ones(nx)\n",
    "mask = np.where((x>= 0.5) & (x <= 1.0))\n",
    "u0[mask] = 2.0"
   ]
  },
  {
   "cell_type": "code",
   "execution_count": 156,
   "metadata": {},
   "outputs": [
    {
     "data": {
      "image/png": "[encoded data removed]",
      "text/plain": [
       "<Figure size 360x360 with 1 Axes>"
      ]
     },
     "metadata": {},
     "output_type": "display_data"
    }
   ],
   "source": [
    "# Non-Linear Initial Conditions\n",
    "plot_figure(x, u0, u0)"
   ]
  },
  {
   "cell_type": "code",
   "execution_count": 160,
   "metadata": {},
   "outputs": [
    {
     "data": {
      "text/plain": [
       "'\\nfor n in range(1, nt):\\n    u[1:] = u[1:] - dt / dx * u[1:] * (u[1:] - u[:-1])\\n    \\nExplanation:\\n------------\\nThis for loop updates all elements of the array except for the first one\\n'"
      ]
     },
     "execution_count": 160,
     "metadata": {},
     "output_type": "execute_result"
    }
   ],
   "source": [
    "# For loop to include both spatial and time iterations\n",
    "for n in range(1, nt):\n",
    "    un = u.copy()\n",
    "    for q in range(1, nx):\n",
    "        u[q] = un[q] - un[q]*dt/dx*(un[q] - un[q-1])\n",
    "\"\"\"\n",
    "for n in range(1, nt):\n",
    "    u[1:] = u[1:] - dt / dx * u[1:] * (u[1:] - u[:-1])\n",
    "    \n",
    "Explanation:\n",
    "------------\n",
    "This for loop updates all elements of the array except for the first one. Utilizing\n",
    "numpy slices\n",
    "\"\"\"    \n"
   ]
  },
  {
   "cell_type": "code",
   "execution_count": 158,
   "metadata": {},
   "outputs": [
    {
     "data": {
      "text/plain": [
       "<matplotlib.legend.Legend at 0x7fc600218be0>"
      ]
     },
     "execution_count": 158,
     "metadata": {},
     "output_type": "execute_result"
    },
    {
     "data": {
      "image/png": "[encoded data removed]",
      "text/plain": [
       "<Figure size 288x288 with 1 Axes>"
      ]
     },
     "metadata": {},
     "output_type": "display_data"
    }
   ],
   "source": [
    "# Nonlinear Solution Plotting\n",
    "pyplot.figure(figsize=(4.0,4.0))\n",
    "pyplot.xlabel('x')\n",
    "pyplot.ylabel('u')\n",
    "pyplot.grid()\n",
    "pyplot.plot(x, u0, label='Initial', color = 'C5')\n",
    "pyplot.plot(x, u, label='nt = {}'.format(nt), color = 'C2')\n",
    "pyplot.xlim(0.0, L)\n",
    "pyplot.ylim(0.0, 2.5)\n",
    "pyplot.legend()"
   ]
  },
  {
   "cell_type": "code",
   "execution_count": null,
   "metadata": {},
   "outputs": [],
   "source": []
  },
  {
   "cell_type": "code",
   "execution_count": null,
   "metadata": {},
   "outputs": [],
   "source": []
  }
 ],
 "metadata": {
  "kernelspec": {
   "display_name": "Python 3",
   "language": "python",
   "name": "python3"
  },
  "language_info": {
   "codemirror_mode": {
    "name": "ipython",
    "version": 3
   },
   "file_extension": ".py",
   "mimetype": "text/x-python",
   "name": "python",
   "nbconvert_exporter": "python",
   "pygments_lexer": "ipython3",
   "version": "3.6.2"
  }
 },
 "nbformat": 4,
 "nbformat_minor": 2
}
