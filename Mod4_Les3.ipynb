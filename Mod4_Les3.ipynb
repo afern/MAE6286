{
 "cells": [
  {
   "cell_type": "markdown",
   "metadata": {},
   "source": [
    "## 2D Heat Diffusion -- Explicit"
   ]
  },
  {
   "cell_type": "code",
   "execution_count": 2,
   "metadata": {},
   "outputs": [],
   "source": [
    "import numpy as np\n",
    "import sympy as sp\n",
    "from matplotlib import pyplot\n",
    "%matplotlib inline"
   ]
  },
  {
   "cell_type": "code",
   "execution_count": 16,
   "metadata": {},
   "outputs": [],
   "source": [
    "# Utilize central difference scheme to solve the 2D heat diffusion equation\n",
    "# dT / dt = a (d2T/dx2 + d2T/dy2)\n",
    "# Stability condition for both directions (x, y) sigma_x + sigma_y <= 0.5\n",
    "\n",
    "# sigma_x = alpha * (dt / dx**2) \n",
    "# sigma_y = alpha * (dt / dy**2)\n",
    "# if dx = dy = delta, then alpha * (dt / delta**2) <= 0.25"
   ]
  },
  {
   "cell_type": "code",
   "execution_count": 17,
   "metadata": {},
   "outputs": [],
   "source": [
    "L = 0.01\n",
    "nx, ny = 21, 21\n",
    "dx = L / (nx - 1)\n",
    "dy = L / (ny - 1)\n",
    "x = np.linspace(0.0, L, num=nx)\n",
    "y = np.linspace(0.0, L, num=ny)\n",
    "\n",
    "alpha = 1e-4          #thermal diffusivity\n",
    "\n",
    "# Initial Conditions\n",
    "T0 = np.full([ny,nx], 20.0)             # matrix with ny rows and nx columns\n",
    "# modify 2d array to include derichlet values and bottom boundaries\n",
    "T0[0, :] = 100 #bottom boundary; 0 indicates row and colon indicates all values along\n",
    "T0[:, 0] = 100.0 # left boundary"
   ]
  },
  {
   "cell_type": "code",
   "execution_count": 25,
   "metadata": {},
   "outputs": [],
   "source": [
    "def ftcs(T0, nt, dt, dx, dy, alpha, qx=0., qy =0.):\n",
    "    sigma_x = alpha * (dt / dx**2)\n",
    "    sigma_y = alpha * (dt / dy**2)\n",
    "    \n",
    "    T = T0.copy()\n",
    "    \n",
    "    ny,nx = T.shape\n",
    "    I, J = nx // 2, ny //2 #double division forces an integer type to be returned\n",
    "    \n",
    "    for n in range(nt):\n",
    "        T[1:-1, 1:-1] = (T[1:-1, 1:-1] + \n",
    "                         sigma_x * (T[1:-1, :-2] - 2 * T[1:-1, 1:-1] + T[1:-1, 2:]) + \n",
    "                        sigma_y * (T[:-2, 1:-1] - 2 * T[1:-1, 1:-1] + T[2: , 1:-1]))\n",
    "        # Update Boundary Values (Neumann Condition)\n",
    "        T[:, -1] = T[:, -2] + qx*dx  # right boundary\n",
    "        T[-1, :] = T[-2, :] + qy*dy  # bottom boundary\n",
    "        if T[J, I] >= 70.:           # temp at center of domain limit = 70 deg C\n",
    "            break\n",
    "        \n",
    "    print(n+1, T[J, I])              # prints the time step and what the temperature is at the center of the domain\n",
    "        \n",
    "    return T"
   ]
  },
  {
   "cell_type": "code",
   "execution_count": 61,
   "metadata": {},
   "outputs": [
    {
     "name": "stdout",
     "output_type": "stream",
     "text": [
      "256 70.02138294076626\n"
     ]
    }
   ],
   "source": [
    "nt = 500\n",
    "sigma = 0.25\n",
    "dt = sigma * min(dx,dy)**2 / alpha\n",
    "\n",
    "T = ftcs(T0, nt, dt, dx, dy, alpha, qx=0, qy=0)"
   ]
  },
  {
   "cell_type": "code",
   "execution_count": 62,
   "metadata": {},
   "outputs": [
    {
     "data": {
      "image/png": "[encoded data removed]",
      "text/plain": [
       "<Figure size 576x360 with 2 Axes>"
      ]
     },
     "metadata": {
      "needs_background": "light"
     },
     "output_type": "display_data"
    }
   ],
   "source": [
    "pyplot.figure(figsize=(8. , 5.))\n",
    "pyplot.xlabel('x [cm]')\n",
    "pyplot.ylabel('y [cm]')\n",
    "contf = pyplot.contourf(x*100, y*100, T, cmap='rainbow');\n",
    "cbar = pyplot.colorbar(contf)\n",
    "cbar.set_label('Temperature [C]')"
   ]
  },
  {
   "cell_type": "markdown",
   "metadata": {},
   "source": [
    "## 2D Diffusion -- Implicit"
   ]
  },
  {
   "cell_type": "code",
   "execution_count": 65,
   "metadata": {},
   "outputs": [],
   "source": [
    "def btcs(T0, nt, dt, delta, alpha):\n",
    "    sigma = alpha * dt / delta**2\n",
    "    # Crate LHS Op\n",
    "    A = lhs_op()\n",
    "    T = map_2d_to_1d(T0)\n",
    "    # integrate in time\n",
    "    for n in range(nt):\n",
    "        b = rhs_vector()\n",
    "        T = np.linalg.solve(A, b)\n",
    "    return map_1d_to_2d(T)"
   ]
  },
  {
   "cell_type": "code",
   "execution_count": 64,
   "metadata": {},
   "outputs": [],
   "source": [
    "def lhs_op(M, N, sigma):\n",
    "    A = np.zeros((M * N, M * N))\n",
    "    for j in range(N):\n",
    "        for i in range(M):\n",
    "            I = J*M + i  # defines row index\n",
    "            \n",
    "            south = I - M\n",
    "            west = I - 1\n",
    "            east = I + 1\n",
    "            north = I + M\n",
    "            \n",
    "            # Setup corner points\n",
    "            if i == 0 and j == 0: #bottom-left corner\n",
    "                A[I,I] = 1. / sigma + 4.0\n",
    "                A[I,east] = -1.\n",
    "                A[I, north] = -1.\n",
    "            elif i == M - 1 and j == 0:\n",
    "                A[I,I] = 1.0 / sigma + 3.\n",
    "                A[I, west] = -1.\n",
    "                A[I, north] = -1.\n",
    "            elif i == 0 and j == N-1: #top-left corner\n",
    "                A[I,I] = 1. / sigma + 3.0\n",
    "                A[I, south] = -1.0\n",
    "                A[I, east] = -1.0\n",
    "            elif i == M - 1 and j == N-1: #top-right corner\n",
    "                A[I,I] = 1.0 / sigma + 2.0\n",
    "                A[I, south] = -1.0\n",
    "                A[I, west] = -1.0\n",
    "            # Setup side points except corners\n",
    "            elif i == 0: #left-side\n",
    "                A[I,I] = 1.0 / sigma + 4.0\n",
    "                A[I, south] = -1.0\n",
    "                A[I, east] = -1.0\n",
    "                A[I, north] = -1.0\n",
    "            elif i == M-1: #right  side\n",
    "                A[I,I] = 1.0 / sigma + 3.0\n",
    "                A[I, south] = -1.0\n",
    "                A[I, west] = -1.0\n",
    "                A[I, north] = -1.0\n",
    "            elif j == 0: #bottom side\n",
    "                A[I,I] = 1.0 / sigma + 4.0\n",
    "                A[I, west] = -1.0\n",
    "                A[I, east] = -1.0\n",
    "                A[I, north]= -1.0\n",
    "            elif j == n-1: #top side\n",
    "                A[I,I] = 1.0 / sigma + 3.0\n",
    "                A[I, south] = -1.0\n",
    "                A[I, west] = -1.0\n",
    "                A[I, east] = -1.0\n",
    "            # Setup interior points\n",
    "            else:\n",
    "                A[I,I] = 1.0 / sigma + 4.0\n",
    "                A[I, south] = -1.0\n",
    "                A[I, west] = -1.0\n",
    "                A[I, north]= -1.0\n",
    "                A[I, east] = -1.0\n",
    "    return A  "
   ]
  },
  {
   "cell_type": "code",
   "execution_count": 66,
   "metadata": {},
   "outputs": [],
   "source": [
    "def rhs_vector(T, M, N, sigma, Tb):\n",
    "    b = 1.0 / sigma * T\n",
    "    # Add derichlet term at pts located next to left and bottom boundaries\n",
    "    for j in range(N):\n",
    "        for i in range(M):\n",
    "            I = j * M + i\n",
    "            if i == 0:\n",
    "                b[I] += Tb\n",
    "            if j == 0:\n",
    "                b[I] += Tb\n",
    "    return b"
   ]
  },
  {
   "cell_type": "code",
   "execution_count": 67,
   "metadata": {},
   "outputs": [],
   "source": [
    "def map_1d_to_2d(T_1d, nx, ny, Tb):\n",
    "    T=np.zeros((ny, nx))\n",
    "    # Get value of interior points\n",
    "    T[1:-1, 1:-1] = T_1d.reshape((ny - 2, nx - 2))\n",
    "    # use Derichlet BC at left and bottom\n",
    "    T[:, 0] = Tb\n",
    "    T[0, :] = Tb\n",
    "    # use Neumann BC at right and top\n",
    "    T[:, -1] = T[:, -2]\n",
    "    T[-1, :] = T[-2, :]\n",
    "    return T"
   ]
  },
  {
   "cell_type": "code",
   "execution_count": 68,
   "metadata": {},
   "outputs": [],
   "source": [
    "# To advance in time, use this cell\n",
    "def btcs_implicit_2d(T0, nt, dt, dx, alpha, Tb):\n",
    "    ny, nx = T0.shape\n",
    "    M = nx - 2\n",
    "    N = ny - 2\n",
    "    sigma = alpha * dt/dx**2\n",
    "    A = lhs_op(M, N, sigma)\n",
    "    T = T0[1:-1, 1:-1].flatten()\n",
    "    I, J = int(M / 2), int(N/2)\n",
    "    for n in range(nt):\n",
    "        b = rhs_vector(T, M, N, sigma, Tb)\n",
    "        T = linalg.solve(a, b)\n",
    "        if T[J* M + I] >= 70.0:\n",
    "            break\n",
    "    print('[time step{}] center at T={:.2f} at t={:.2f} s'.format(n+1, T[J*M+I], (n+1)*dt))\n",
    "    return map_1d_to_2d(T, nx, ny, Tb)"
   ]
  },
  {
   "cell_type": "code",
   "execution_count": null,
   "metadata": {},
   "outputs": [],
   "source": [
    "btcs_implicit"
   ]
  }
 ],
 "metadata": {
  "kernelspec": {
   "display_name": "Python 3",
   "language": "python",
   "name": "python3"
  },
  "language_info": {
   "codemirror_mode": {
    "name": "ipython",
    "version": 3
   },
   "file_extension": ".py",
   "mimetype": "text/x-python",
   "name": "python",
   "nbconvert_exporter": "python",
   "pygments_lexer": "ipython3",
   "version": "3.7.3"
  }
 },
 "nbformat": 4,
 "nbformat_minor": 2
}
